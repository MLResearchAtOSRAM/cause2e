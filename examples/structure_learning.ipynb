{
 "cells": [
  {
   "cell_type": "markdown",
   "metadata": {},
   "source": [
    "# Structure learning with cause2e\r\n",
    "This notebook shows how ```cause2e``` can be used for learning causal graphs. Structure learning (also called causal discovery) can be performed by the ```discovery.StructureLearner``` after reading data and specifying domain knowledge. If we only want to perform a quick exploratory search, we can use the provided reasonable default parameters for the search procedure. However, if we need to finetune the settings for the causal search after encountering problems with the default option, this notebooks shows how to do it. The search is mostly based on the ```py-causal``` package, a wrapper around the well-known JAVA ```TETRAD``` software. ```Cause2e``` aims to use ```py-causal``` algorithms only for the search itself, in order to spare the user from dealing with JAVA error messages when dealing with peripheral tasks."
   ]
  },
  {
   "cell_type": "markdown",
   "metadata": {},
   "source": [
    "### Imports"
   ]
  },
  {
   "cell_type": "code",
   "execution_count": 17,
   "metadata": {},
   "outputs": [],
   "source": [
    "import os\n",
    "from cause2e import path_mgr, discovery, knowledge"
   ]
  },
  {
   "cell_type": "markdown",
   "metadata": {},
   "source": [
    "## Set up paths to data and output directories\n",
    "This step is conveniently handled by the ```PathManager``` class, which avoids having to wrestle with paths throughout the multistep causal analysis. If we want to perform the analysis in a directory ```'dirname'``` that contains ```'dirname/data'``` and ```'dirname/output'``` as subdirectories, we can also use ```PathManagerQuick``` for an even easier setup. The experiment name is used for generating output files with meaningful names, in case we want to study multiple scenarios (e.g. with varying model parameters). For this analysis, we use the sprinkler dataset."
   ]
  },
  {
   "cell_type": "code",
   "execution_count": 18,
   "metadata": {},
   "outputs": [],
   "source": [
    "cwd = os.getcwd()\r\n",
    "wd = os.path.dirname(cwd)\r\n",
    "paths = path_mgr.PathManagerQuick(experiment_name='sprinkler',\r\n",
    "                                  data_name='sprinkler.csv',\r\n",
    "                                  directory=wd\r\n",
    "                                  )"
   ]
  },
  {
   "cell_type": "markdown",
   "metadata": {},
   "source": [
    "## Initialize the StructureLearner\n",
    "As in the other notebooks, we set up a ```StructureLearner``` and read our data."
   ]
  },
  {
   "cell_type": "code",
   "execution_count": 19,
   "metadata": {},
   "outputs": [],
   "source": [
    "learner = discovery.StructureLearner(paths)\n",
    "learner.read_csv(index_col=0)"
   ]
  },
  {
   "cell_type": "markdown",
   "metadata": {},
   "source": [
    "The first step in the analysis should be an assessment of which variables we are dealing with. In the sprinkler dataset, each sample tells us \n",
    "- the current season\n",
    "- whether it is raining\n",
    "- whether our lawn sprinkler is activated\n",
    "- whether our lawn is slippery\n",
    "- whether our lawn is wet."
   ]
  },
  {
   "cell_type": "code",
   "execution_count": 20,
   "metadata": {},
   "outputs": [
    {
     "name": "stdout",
     "output_type": "stream",
     "text": [
      "{'Rain', 'Wet', 'Slippery', 'Season', 'Sprinkler'}\n"
     ]
    }
   ],
   "source": [
    "print(learner.variables)"
   ]
  },
  {
   "cell_type": "markdown",
   "metadata": {},
   "source": [
    "It necessary to communicate to the ```StructureLearner``` if the variables are discrete, continuous, or both. We check how many unique values each variable takes on in our sample and deduce that all variables are discrete."
   ]
  },
  {
   "cell_type": "code",
   "execution_count": 21,
   "metadata": {},
   "outputs": [
    {
     "name": "stdout",
     "output_type": "stream",
     "text": [
      "Season       4\n",
      "Sprinkler    2\n",
      "Rain         2\n",
      "Wet          2\n",
      "Slippery     2\n",
      "dtype: int64\n"
     ]
    }
   ],
   "source": [
    "print(learner.data.nunique())"
   ]
  },
  {
   "cell_type": "markdown",
   "metadata": {},
   "source": [
    "This information is passed to the ```StructureLearner``` by indicating the exact sets of discrete and continuous variables."
   ]
  },
  {
   "cell_type": "code",
   "execution_count": 22,
   "metadata": {},
   "outputs": [],
   "source": [
    "learner.discrete = set(learner.variables)\r\n",
    "learner.continuous = set()"
   ]
  },
  {
   "cell_type": "markdown",
   "metadata": {},
   "source": [
    "### Provide domain knowledge\r\n",
    "Humans can often infer parts of the causal graph from domain knowledge. The nodes are always just the variables in the data, so the problem of finding the right graph comes down to selecting the right edges between them.\r\n",
    "\r\n",
    "As a reminder: The correct causal graph has an edge from variable A to variable B if and only if variable A directly influences variable B (changing the value of variable A changes the value of variable B if we keep all other variables fixed).\r\n",
    "\r\n",
    "\r\n",
    "There are three ways of passing domain knowledge:\r\n",
    "- Indicate which edges must be present in the causal graph.\r\n",
    "- Indicate which edges must not be present in the causal graph.\r\n",
    "- Indicate a temporal order in which the variables have been created. This is then used to generate forbidden edges, since the future can never influence the past.\r\n",
    "\r\n",
    "In this example, we only assume that the current season is directly influencing the weather and the probability that the sprinkler is on. This makes sense: During the summer, it is less likely to rain and sprinklers are more likely to be activated."
   ]
  },
  {
   "cell_type": "code",
   "execution_count": 23,
   "metadata": {},
   "outputs": [],
   "source": [
    "required = {('Season', 'Rain'), ('Season', 'Sprinkler')}"
   ]
  },
  {
   "cell_type": "markdown",
   "metadata": {},
   "source": [
    "We pass the knowledge to the ```StructureLearner``` and check if it has been correctly received."
   ]
  },
  {
   "cell_type": "code",
   "execution_count": 24,
   "metadata": {},
   "outputs": [
    {
     "name": "stdout",
     "output_type": "stream",
     "text": [
      "{'forbidden': set(), 'required': {('Season', 'Rain'), ('Season', 'Sprinkler')}, 'temporal': [], 'expected_effects': {}}\n"
     ]
    }
   ],
   "source": [
    "learner.set_knowledge(required=required)\n",
    "print(learner.knowledge)"
   ]
  },
  {
   "cell_type": "markdown",
   "metadata": {},
   "source": [
    "## Select and use a structure learning algorithm\n",
    "Now that the ```StructureLearner``` has received the data and the domain knowledge, we can try to recover the original graph using causal discovery methods provided by the internally called ```py-causal``` package. There are many parameters that can be tuned (choice of algorithm, search score, independence test, hyperparameters, ...) and we can get an overview by calling some informative methods of the learner."
   ]
  },
  {
   "cell_type": "code",
   "execution_count": 25,
   "metadata": {},
   "outputs": [
    {
     "name": "stdout",
     "output_type": "stream",
     "text": [
      "TETRAD search algos:\n",
      "\n",
      "fas\n",
      "fask\n",
      "fci\n",
      "fges\n",
      "fges-mb\n",
      "fofc\n",
      "ftfc\n",
      "gfci\n",
      "glasso\n",
      "imgs_cont\n",
      "imgs_disc\n",
      "ling\n",
      "lingam\n",
      "mbfs\n",
      "mgm\n",
      "multi-fask\n",
      "pc-all\n",
      "r-skew\n",
      "r3\n",
      "rfci\n",
      "rfci-bsc\n",
      "skew\n",
      "ts-fci\n",
      "ts-gfci\n",
      "ts-imgs\n",
      "---------------------\n",
      "\n",
      "TETRAD search scores:\n",
      "\n",
      "bdeu-score\n",
      "cci-score\n",
      "cg-bic-score\n",
      "cg-other-bic-score\n",
      "d-sep-score\n",
      "degen-gauss-bic\n",
      "disc-bic-score\n",
      "disc-mixed-bic-score\n",
      "mnlr-bic-score\n",
      "mvp-bic-score\n",
      "sem-bic\n",
      "---------------------\n",
      "\n",
      "TETRAD search independence tests:\n",
      "\n",
      "bdeu-test\n",
      "cci-test\n",
      "cg-lr-test\n",
      "chi-square-test\n",
      "d-sep-test\n",
      "dg-lr-test\n",
      "disc-bic-test\n",
      "fisher-z-test\n",
      "g-square-test\n",
      "kci-test\n",
      "mnlrlr-test\n",
      "mvplr-test\n",
      "prob-test\n",
      "---------------------\n",
      "\n"
     ]
    }
   ],
   "source": [
    "learner.show_search_algos()\n",
    "learner.show_search_scores()\n",
    "learner.show_independence_tests()"
   ]
  },
  {
   "cell_type": "markdown",
   "metadata": {},
   "source": [
    "To make an informed choice, we can browse through the proposed search algorithms and decide which one fits our problem. Let us have a look at the FGES algorithm, which is a well known score-based algorithm that is suitable for a mix of continuous and discrete data. Note that it also accepts domain knowledge, which makes it a good starting point for many datasets."
   ]
  },
  {
   "cell_type": "code",
   "execution_count": 26,
   "metadata": {},
   "outputs": [
    {
     "name": "stdout",
     "output_type": "stream",
     "text": [
      "FGES is an optimized and parallelized version of an algorithm developed by Meek [Meek, 1997] called the Greedy Equivalence Search (GES). The algorithm was further developed and studied by Chickering [Chickering, 2002]. GES is a Bayesian algorithm that heuristically searches the space of CBNs and returns the model with highest Bayesian score it finds. In particular, GES starts its search with the empty graph. It then performs a forward stepping search in which edges are added between nodes in order to increase the Bayesian score. This process continues until no single edge addition increases the score. Finally, it performs a backward stepping search that removes edges until no single edge removal can increase the score. More information is available here and here. The reference is Ramsey et al., 2017.\n",
      "The algorithms requires a decomposable score—that is, a score that for the entire DAG model is a sum of logged scores of each variables given its parents in the model. The algorithms can take all continuous data (using the SEM BIC score), all discrete data (using the BDeu score) or a mixture of continuous and discrete data (using the Conditional Gaussian score); these are all decomposable scores.\n",
      "\n",
      "It requires the score.\n",
      "\n",
      "It accepts the prior knowledge.\n",
      "---------------------\n",
      "\n"
     ]
    }
   ],
   "source": [
    "learner.show_algo_info('fges')"
   ]
  },
  {
   "cell_type": "markdown",
   "metadata": {},
   "source": [
    "The description tells us that we can select a search score and pass our domain knowledge. If we actually want to call the algorithm, we need to know if it requires additional hyperparameters and what they mean. These can be inspected via another utility method. Since FGES requires a score, we need to pass one to ```show_algo_params```, but it seems that the choice does not affect the output, so we just choose one at random from the above list."
   ]
  },
  {
   "cell_type": "code",
   "execution_count": 27,
   "metadata": {},
   "outputs": [
    {
     "name": "stdout",
     "output_type": "stream",
     "text": [
      "faithfulnessAssumed: This is a parameter for FGES (“Fast GES”). If this is set to ‘Yes’, it will be assumed that if X _||_ Y, by an independence test, then X _||_ Y | Z for nonempty Z. If the model is faithful to the data, this will necessarily be the case. However, there are some non-faithful examples one can propose where this is not the case. If one is worried about this kind of unfaithfulness, one should set this parameter to ‘No’. If one is willing to tolerate this kind of unfaithfulness, then setting this parameter to ‘Yes’ leads to significantly faster searches. (java.lang.Boolean) [default:true]\n",
      "symmetricFirstStep: For discrete searches, and in some other situations, it may make a difference for an edge X—Y whether you score X->Y or X<-Y, even though theoretically they should have the same score. If this parameter is set to “Yes”, both scores will be calculated and the higher score used. (Recall we are calculating BIC as 2L – c k ln N, where c is the penalty discount.) (java.lang.Boolean) [default:false]\n",
      "maxDegree: It is possible for a random graph to have a single node with very high degree—i.e. number of adjacent edges. This parameter places an upper bound on the maximum such degree. If no limit is to be placed on the maximum degree, use the value -1. (java.lang.Integer) [default:100]\n",
      "verbose: If this parameter is set to ‘Yes’, extra (“verbose”) output will be printed if available giving some details about the step-by-step operation of the algorithm. (java.lang.Boolean) [default:true]\n",
      "---------------------\n",
      "\n"
     ]
    }
   ],
   "source": [
    "learner.show_algo_params('fges', score_name='cg-bic-score')"
   ]
  },
  {
   "cell_type": "markdown",
   "metadata": {},
   "source": [
    "Let us try out a possible search configuration."
   ]
  },
  {
   "cell_type": "code",
   "execution_count": 28,
   "metadata": {},
   "outputs": [
    {
     "name": "stdout",
     "output_type": "stream",
     "text": [
      "Remember to stop the JVM after you are completely done.\n",
      "Proposed causal graph:\n",
      "\n",
      "The graph is fully directed.\n",
      "\n"
     ]
    },
    {
     "data": {
      "image/png": "[encoded data removed]",
      "text/plain": [
       "<IPython.core.display.Image object>"
      ]
     },
     "metadata": {},
     "output_type": "display_data"
    },
    {
     "name": "stdout",
     "output_type": "stream",
     "text": [
      "Saving dot file.\n",
      "Knowledge is respected!\n",
      "Saving png file.\n",
      "Knowledge is respected!\n",
      "Saving svg file.\n",
      "Knowledge is respected!\n"
     ]
    }
   ],
   "source": [
    "learner.run_search(algo='fges', scoreId='cg-bic-score', maxDegree=5, faithfulnessAssumed=True, symmetricFirstStep=True)"
   ]
  },
  {
   "cell_type": "markdown",
   "metadata": {},
   "source": [
    "The output of the search is a proposed causal graph. We can ignore the warning about stopping the Java Virtual Machine (needed by ```py-causal``` which is a wrapper around the ```TETRAD``` software that is written in Java) if we do not run into any problems. If the algorithm cannot orient all edges, we need to do this manually. Therefore, the output includes a list of all undirected edges, so we do not miss them in complicated graphs with many variables and edges. In our case, all the edges are already oriented.\n",
    "\n",
    "The result seems reasonable:\n",
    "- The weather depends on the season.\n",
    "- The sprinkler use also depends on the season.\n",
    "- The lawn will be wet if it rains or if the sprinkler is activated.\n",
    "- The lawn will be slippery if it is wet.\n",
    "\n",
    "We can also see that the result is automatically saved to different file formats and that our graph respects the previously indicated domain knowledge.\n",
    "\n",
    "In order to spare users from the pain of going through all the above reading whenever they want to perform just a quick exploratory analysis, we have provided the above configuration as default arguments (FGES with CG-BIC score for possibly mixed datatypes, respecting domain knowledge, assuming faithfulness, using symmetric first step) that let us start the search without any finetuning. Just call ```run_quick_search()``` and you are good to go."
   ]
  },
  {
   "cell_type": "code",
   "execution_count": 29,
   "metadata": {},
   "outputs": [
    {
     "name": "stdout",
     "output_type": "stream",
     "text": [
      "Remember to stop the JVM after you are completely done.\n",
      "Proposed causal graph:\n",
      "\n",
      "The graph is fully directed.\n",
      "\n"
     ]
    },
    {
     "data": {
      "image/png": "[encoded data removed]",
      "text/plain": [
       "<IPython.core.display.Image object>"
      ]
     },
     "metadata": {},
     "output_type": "display_data"
    },
    {
     "name": "stdout",
     "output_type": "stream",
     "text": [
      "Saving dot file.\n",
      "Knowledge is respected!\n",
      "Saving png file.\n",
      "Knowledge is respected!\n",
      "Saving svg file.\n",
      "Knowledge is respected!\n"
     ]
    }
   ],
   "source": [
    "learner.run_quick_search()"
   ]
  },
  {
   "cell_type": "markdown",
   "metadata": {},
   "source": [
    "In this notebook we want to show how to switch to a different algorithm, e.g. a variant of the constraint-based PC algorithm, which can be found under the name ```pc-all``` in the above listing of algorithms. The procedure is the same as above, it just requires some reading of ```py-causal```'s algorithm descriptions."
   ]
  },
  {
   "cell_type": "code",
   "execution_count": 30,
   "metadata": {},
   "outputs": [
    {
     "name": "stdout",
     "output_type": "stream",
     "text": [
      "PC algorithm (Spirtes and Glymour, Social Science Computer Review, 1991) is a pattern search which assumes that the underlying causal structure of the input data is acyclic, and that no two variables are caused by the same latent (unmeasured) variable. In addition, it is assumed that the input data set is either entirely continuous or entirely discrete; if the data set is continuous, it is assumed that the causal relation between any two variables is linear, and that the distribution of each variable is Normal. Finally, the sample should ideally be i.i.d.. Simulations show that PC and several of the other algorithms described here often succeed when these assumptions, needed to prove their correctness, do not strictly hold. The PC algorithm will sometimes output double headed edges. In the large sample limit, double headed edges in the output indicate that the adjacent variables have an unrecorded common cause, but PC tends to produce false positive double headed edges on small samples.\n",
      "The PC algorithm is correct whenever decision procedures for independence and conditional independence are available. The procedure conducts a sequence of independence and conditional independence tests, and efficiently builds a pattern from the results of those tests. As implemented in TETRAD, PC is intended for multinomial and approximately Normal distributions with i.i.d. data. The tests have an alpha value for rejecting the null hypothesis, which is always a hypothesis of independence or conditional independence. For continuous variables, PC uses tests of zero correlation or zero partial correlation for independence or conditional independence respectively. For discrete or categorical variables, PC uses either a chi square or a g square test of independence or conditional independence (see Causation, Prediction, and Search for details on tests). In either case, the tests require an alpha value for rejecting the null hypothesis, which can be adjusted by the user. The procedures make no adjustment for multiple testing. (For PC, CPC, JPC, JCPC, FCI, all testing searches.)\n",
      "\n",
      "It requires the independence test.\n",
      "\n",
      "It accepts the prior knowledge.\n",
      "---------------------\n",
      "\n"
     ]
    }
   ],
   "source": [
    "learner.show_algo_info('pc-all')"
   ]
  },
  {
   "cell_type": "markdown",
   "metadata": {},
   "source": [
    "In this case, we need to pass a ```test_name``` to ```show_algo_params``` instead of a ```score_name```. Again, we pick one at random since it does not seem to change the description."
   ]
  },
  {
   "cell_type": "code",
   "execution_count": 31,
   "metadata": {},
   "outputs": [
    {
     "name": "stdout",
     "output_type": "stream",
     "text": [
      "stableFAS: In Colombo, D., & Maathuis, M. H. (2014, Order-independent constraint-based causal structure learning, The Journal of Machine Learning Research, 15(1), 3741-3782), a modification of the adjacency search of PC was proposed that results in invariance under order permutations of the variables in the data. If this parameter is set to ‘Yes’, this version of the PC adjacency search is used. (java.lang.Boolean) [default:true]\n",
      "concurrentFAS: Various versions of the PC adjacency search lend themselves to concurrent processing—that is, doing different independence tests in parallel to speed up the processing. If this parameter is set to ‘Yes’, and this option is available, it will be used. (java.lang.Boolean) [default:false]\n",
      "colliderDiscoveryRule: For variants of PC, one may choose from one of three different ways for orienting colliders. One may look them up from sepsets, as in the original PC, or estimate them conservatively, as from the Conservative PC algorithm, or by choosing the sepsets with the maximum p-value. In simulation, CPC (default = 2) works the best for sample sizes greater than 100; for very small sample sizes, PC-Max generally works better. (java.lang.Integer) [default:2]\n",
      "conflictRule: It is not possible to avoid collider orientation conflicts in PC entirely. We offer three ways to deal with them. One may use the “overwrite” rule as introduced in the PCALG R package, or one may mark all collider conflicts using bidirected edges, or one may prioritize existing colliders, ignoring subsequent conflicting information. (java.lang.Integer) [default:3]\n",
      "depth: This variable is usually called “depth” for algorithms such as PC in which conditioning sets are considered of increasing size from zero up to some limit, called “depth”. For example, if depth = 3, conditioning sets will be considered of sizes 0, 1, 2, and 3. In order to express that no limit should be imposed, use the value -1. (java.lang.Integer) [default:-1]\n",
      "useMaxPOrientationHeuristic: The “Max P” method for orienting an unshielded triple X—Y—Z records p-values for X _||_ Z | S for all S in adj(X) or adj(Z), finds the set S0 with the highest p-value, and orients X->Y<-Z just in case Y is not in S0. Another way to do the orientation if X and Z are only weakly dependent, is to simply see whether the p-value for X _||_ Z | Y is greater than the p-value for X _||_ Z. This is the “heuristic” referred to her; the purpose is to speed up the search. (java.lang.Boolean) [default:false]\n",
      "maxPOrientationMaxPathLength: For the Max P “heuristic” to work, it must be the case that X and Z are only weakly associated—that is, that paths between them are not too short. This bounds the length of paths for this purpose. (java.lang.Integer) [default:3]\n",
      "verbose: If this parameter is set to ‘Yes’, extra (“verbose”) output will be printed if available giving some details about the step-by-step operation of the algorithm. (java.lang.Boolean) [default:true]\n",
      "---------------------\n",
      "\n"
     ]
    }
   ],
   "source": [
    "learner.show_algo_params('pc-all', test_name='bdeu-test')"
   ]
  },
  {
   "cell_type": "markdown",
   "metadata": {},
   "source": [
    "Now that we know possible configuration options, we can select a few at random and check the result."
   ]
  },
  {
   "cell_type": "code",
   "execution_count": 32,
   "metadata": {},
   "outputs": [
    {
     "name": "stdout",
     "output_type": "stream",
     "text": [
      "Remember to stop the JVM after you are completely done.\n",
      "Proposed causal graph:\n",
      "\n",
      "The following edges are undirected:\n",
      "\n",
      "Slippery --- Wet\n"
     ]
    },
    {
     "data": {
      "image/png": "[encoded data removed]",
      "text/plain": [
       "<IPython.core.display.Image object>"
      ]
     },
     "metadata": {},
     "output_type": "display_data"
    }
   ],
   "source": [
    "learner.run_search(algo='pc-all', stableFAS=True, conflictRule=1, save_graph=False)"
   ]
  },
  {
   "cell_type": "markdown",
   "metadata": {},
   "source": [
    "The output is worse than the one with FGES, but the situation might be reversed for a different problem, so having the ability to quickly switch between algorithms and hyperparameters is a handy tool. Some algorithms are only suited for certain types of data, some cannot accept domain knowledge, some produce outputs that differ from the mixed graph format (other options such as PAG are currently not supported by ```cause2e```'s graph handling). Feel free to play around with different algorithms and configurations to explore the possibilities of causal discovery!"
   ]
  }
 ],
 "metadata": {
  "interpreter": {
   "hash": "4697cb428b990343430888fd6e79b9ccd4a789c087a3fcc20700e77261b659ed"
  },
  "kernelspec": {
   "display_name": "Python 3.7.1 64-bit ('test': conda)",
   "name": "python3"
  },
  "language_info": {
   "codemirror_mode": {
    "name": "ipython",
    "version": 3
   },
   "file_extension": ".py",
   "mimetype": "text/x-python",
   "name": "python",
   "nbconvert_exporter": "python",
   "pygments_lexer": "ipython3",
   "version": "3.7.1"
  },
  "orig_nbformat": 2
 },
 "nbformat": 4,
 "nbformat_minor": 2
}