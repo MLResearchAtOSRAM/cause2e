{
 "cells": [
  {
   "cell_type": "markdown",
   "metadata": {},
   "source": [
    "# Domain knowledge creation with cause2e\n",
    "This notebook shows examples of how ```cause2e``` can be used for creating and handling domain knowledge. Domain knowledge can be created by the ```knowledge.EdgeCreator``` before learning the causal graph. Using domain knowledge for structure learning drastically increases our chances of finding the right causal graph with structure learning methods. \n",
    "\n",
    "As a reminder: The correct causal graph has an edge from variable A to variable B if and only if variable A directly influences variable B (changing the value of variable A changes the value of variable B if we keep all other variables fixed). \n",
    "\n",
    "Humans can often infer parts of the causal graph from domain knowledge. The nodes are always just the variables in the data, so the problem of finding the right graph comes down to selecting the right edges between them.\n",
    "There are three ways of passing domain knowledge:\n",
    "- Indicate which edges must be present in the causal graph.\n",
    "- Indicate which edges must not be present in the causal graph.\n",
    "- Indicate a temporal order in which the variables have been created. This is then used to generate forbidden edges, since the future can never influence the past."
   ]
  },
  {
   "cell_type": "markdown",
   "metadata": {},
   "source": [
    "### Imports"
   ]
  },
  {
   "cell_type": "code",
   "execution_count": 1,
   "metadata": {},
   "outputs": [],
   "source": [
    "from cause2e import knowledge"
   ]
  },
  {
   "cell_type": "markdown",
   "metadata": {},
   "source": [
    "## Problem description\n",
    "Suppose that we want to model the following situation. Prospective students send out applications to four different universities (A, B, C and D) where they hope to be accepted. Their application contains their grades, but not their age or ethnicity. The applications are fully anonymous and solely grade-based, meaning that the universities only sort the students by their grades and accept the best ones. The only exception is university D, where the grades do not matter and students are selected only based on their age. It is forbidden for the universities' admission committees to talk to each other during the application process."
   ]
  },
  {
   "cell_type": "markdown",
   "metadata": {},
   "source": [
    "## Organizing our knowledge\n",
    "Suppose we are given data for the following variables:\n",
    "- 'Age': A student's age.\n",
    "- 'Ethnicity': A student's ethnicity.\n",
    "- 'Grades': A student's grade average.\n",
    "- 'University A': True if a student is accepted at university A, false otherwise.\n",
    "- 'University B': True if a student is accepted at university B, false otherwise.\n",
    "- 'University C': True if a student is accepted at university C, false otherwise.\n",
    "- 'University D': True if a student is accepted at university D, false otherwise.\n",
    "\n",
    "Before we can start creating knowledge in the form of forbidden or required edges in the causal graph with ```cause2e```, we have to think about which edges can be present in the graph. No maths or programming is required, we only need common sense (and actual domain knowledge in more specific application cases) to come up with a list of edges.\n",
    "- A student's grades, age and ethnicity cannot be affected by the universities acceptance/rejection letters for temporal reasons.\n",
    "- A student's age or ethnicity cannot be influenced by their grades.\n",
    "- A student's grade affects the acceptance chance at all the universities by the nature of the screening process, except at university D.\n",
    "- A student's age or ethnicity cannot influence acceptance/rejection at the universities, except at university D where age matters.\n",
    "- Being accepted/rejected from one university cannot influence the results from the other universities."
   ]
  },
  {
   "cell_type": "markdown",
   "metadata": {},
   "source": [
    "## Creating knowledge with ```cause2e```\n",
    "In principle, we can explicitly enumerate all the forbidden or required edges from the above verbal reasoning and feed them into a structure learning algorithm. However, this quickly becomes very laborous as the number of variables in a problem grows. It is also prone to errors since there are so many constraints that it is easy to forget one without noticing. ```cause2e``` spares us from this pain by providing the ```knowledge.EdgeCreator``` that has utility methods for creating many constraints at once, just like humans do it naturally when using language."
   ]
  },
  {
   "cell_type": "code",
   "execution_count": 2,
   "metadata": {},
   "outputs": [],
   "source": [
    "edge_creator = knowledge.EdgeCreator()"
   ]
  },
  {
   "cell_type": "markdown",
   "metadata": {},
   "source": [
    "In order to create many constraints at once, it is helpful to group our variables into semantically meaningful groups, e.g. the responses from the universities on the one hand and the students' attributes on the other hand."
   ]
  },
  {
   "cell_type": "code",
   "execution_count": 3,
   "metadata": {},
   "outputs": [],
   "source": [
    "universities = {'University A', 'University B', 'University C', 'University D'}\n",
    "student_attributes = {'Age', 'Ethnicities', 'Grades'}"
   ]
  },
  {
   "cell_type": "markdown",
   "metadata": {},
   "source": [
    "### Forbid edges from temporal knowledge\n",
    "In many applications, we have knowledge about the temporal structure of the data generating process. This is very helpful, since the future cannot influence the past. We can directly communicate this knowledge to the ```EdgeCreator``` that subsequently translates it into a number of forbidden edges."
   ]
  },
  {
   "cell_type": "code",
   "execution_count": 4,
   "metadata": {},
   "outputs": [],
   "source": [
    "temporal_order = [student_attributes, universities]\n",
    "edge_creator.forbid_edges_from_temporal(temporal_order)"
   ]
  },
  {
   "cell_type": "markdown",
   "metadata": {},
   "source": [
    "The communicated constraints can be checked with a call to ```show_edges()```."
   ]
  },
  {
   "cell_type": "code",
   "execution_count": 5,
   "metadata": {},
   "outputs": [
    {
     "name": "stdout",
     "output_type": "stream",
     "text": [
      "-------------------\n",
      "Required edges:\n",
      "-------------------\n",
      "Forbidden edges:\n",
      "('University C', 'Age')\n",
      "('University B', 'Ethnicities')\n",
      "('University A', 'Age')\n",
      "('University D', 'Age')\n",
      "('University B', 'Grades')\n",
      "('University D', 'Ethnicities')\n",
      "('University B', 'Age')\n",
      "('University D', 'Grades')\n",
      "('University A', 'Ethnicities')\n",
      "('University C', 'Grades')\n",
      "('University A', 'Grades')\n",
      "('University C', 'Ethnicities')\n",
      "-------------------\n"
     ]
    }
   ],
   "source": [
    "edge_creator.show_edges()"
   ]
  },
  {
   "cell_type": "markdown",
   "metadata": {},
   "source": [
    "We can also directly inspect the ```forbidden_edges``` and ```required_edges``` attributes where the constraints are stored."
   ]
  },
  {
   "cell_type": "code",
   "execution_count": 6,
   "metadata": {},
   "outputs": [
    {
     "name": "stdout",
     "output_type": "stream",
     "text": [
      "{('University C', 'Age'), ('University B', 'Ethnicities'), ('University A', 'Age'), ('University D', 'Age'), ('University B', 'Grades'), ('University D', 'Ethnicities'), ('University B', 'Age'), ('University D', 'Grades'), ('University A', 'Ethnicities'), ('University C', 'Grades'), ('University A', 'Grades'), ('University C', 'Ethnicities')}\n",
      "set()\n"
     ]
    }
   ],
   "source": [
    "print(edge_creator.forbidden_edges)\n",
    "print(edge_creator.required_edges)"
   ]
  },
  {
   "cell_type": "markdown",
   "metadata": {},
   "source": [
    "We see that the edges are represented as a set of pairs: The first entry is the source node, the second entry is the destination node. We can directly pass another forbidden edge using this simple format."
   ]
  },
  {
   "cell_type": "code",
   "execution_count": 7,
   "metadata": {},
   "outputs": [
    {
     "name": "stdout",
     "output_type": "stream",
     "text": [
      "-------------------\n",
      "Required edges:\n",
      "-------------------\n",
      "Forbidden edges:\n",
      "('University C', 'Age')\n",
      "('University B', 'Ethnicities')\n",
      "('University A', 'Age')\n",
      "('University D', 'Age')\n",
      "('University B', 'Grades')\n",
      "('University D', 'Ethnicities')\n",
      "('University B', 'Age')\n",
      "('University D', 'Grades')\n",
      "('University A', 'Ethnicities')\n",
      "('University C', 'Grades')\n",
      "('University A', 'Grades')\n",
      "('University C', 'Ethnicities')\n",
      "('Grades', 'University A')\n",
      "-------------------\n"
     ]
    }
   ],
   "source": [
    "test_edge = ('Grades', 'University A')\n",
    "edge_creator.forbidden_edges.add(test_edge)\n",
    "edge_creator.show_edges()"
   ]
  },
  {
   "cell_type": "markdown",
   "metadata": {},
   "source": [
    "### Fresh start\n",
    "If we have made a mistake while adding constraints, we can just delete all required and forbidden edges. Since the knowledge creation is an inexpensive operation, we can then repeat all the previous steps without including the undesired constraint. In our scenario, the last edge from 'Grades' to 'University A' was incorrectly specified as forbidden."
   ]
  },
  {
   "cell_type": "code",
   "execution_count": 8,
   "metadata": {},
   "outputs": [
    {
     "name": "stdout",
     "output_type": "stream",
     "text": [
      "-------------------\n",
      "Required edges:\n",
      "-------------------\n",
      "Forbidden edges:\n",
      "-------------------\n"
     ]
    }
   ],
   "source": [
    "edge_creator.forget_edges()\n",
    "edge_creator.show_edges()"
   ]
  },
  {
   "cell_type": "markdown",
   "metadata": {},
   "source": [
    "Unlike in a real application, for this notebook we forget all edges after each step, in order to be able to see the effect of our last operation more clearly."
   ]
  },
  {
   "cell_type": "markdown",
   "metadata": {},
   "source": [
    "### Forbid edges within groups\n",
    "We can create additional constraints if variables in one group cannot influence each other. In our case, the universities are not allowed to communicate during the application process."
   ]
  },
  {
   "cell_type": "code",
   "execution_count": 9,
   "metadata": {},
   "outputs": [
    {
     "name": "stdout",
     "output_type": "stream",
     "text": [
      "-------------------\n",
      "Required edges:\n",
      "-------------------\n",
      "Forbidden edges:\n",
      "('University D', 'University A')\n",
      "('University B', 'University B')\n",
      "('University D', 'University D')\n",
      "('University A', 'University D')\n",
      "('University A', 'University A')\n",
      "('University C', 'University C')\n",
      "('University A', 'University B')\n",
      "('University D', 'University C')\n",
      "('University B', 'University A')\n",
      "('University D', 'University B')\n",
      "('University C', 'University D')\n",
      "('University B', 'University D')\n",
      "('University A', 'University C')\n",
      "('University C', 'University A')\n",
      "('University C', 'University B')\n",
      "('University B', 'University C')\n",
      "-------------------\n"
     ]
    }
   ],
   "source": [
    "edge_creator.forbid_edges_within_group(universities)\n",
    "edge_creator.show_edges()\n",
    "edge_creator.forget_edges()"
   ]
  },
  {
   "cell_type": "markdown",
   "metadata": {},
   "source": [
    "### Forbid edges between groups\n",
    "If there are two groups such that no variable in one group directly influences a variable in the other group, we can use this information to generate a list of forbidden edges. In our case, the first group consists only of the students' grades and the second group consists of their age and ethnicity. We tell the ```EdgeCreator``` to forbid all incoming edges from the second group into the first group. "
   ]
  },
  {
   "cell_type": "code",
   "execution_count": 10,
   "metadata": {},
   "outputs": [
    {
     "name": "stdout",
     "output_type": "stream",
     "text": [
      "-------------------\n",
      "Required edges:\n",
      "-------------------\n",
      "Forbidden edges:\n",
      "('Ethnicity', 'Grades')\n",
      "('Age', 'Grades')\n",
      "-------------------\n"
     ]
    }
   ],
   "source": [
    "edge_creator.forbid_edges_from_groups({'Grades'}, incoming={'Age', 'Ethnicity'})\n",
    "edge_creator.show_edges()\n",
    "edge_creator.forget_edges()"
   ]
  },
  {
   "cell_type": "markdown",
   "metadata": {},
   "source": [
    "Since there is no inherent order of the two groups, we can prescribe the same forbidden edges by switching the role of the groups and using the ```outgoing``` instead of the ```incoming``` argument. We see that the result is unchanged."
   ]
  },
  {
   "cell_type": "code",
   "execution_count": 11,
   "metadata": {},
   "outputs": [
    {
     "name": "stdout",
     "output_type": "stream",
     "text": [
      "-------------------\n",
      "Required edges:\n",
      "-------------------\n",
      "Forbidden edges:\n",
      "('Ethnicity', 'Grades')\n",
      "('Age', 'Grades')\n",
      "-------------------\n"
     ]
    }
   ],
   "source": [
    "edge_creator.forbid_edges_from_groups({'Age', 'Ethnicity'}, outgoing={'Grades'})\n",
    "edge_creator.show_edges()\n",
    "edge_creator.forget_edges()"
   ]
  },
  {
   "cell_type": "markdown",
   "metadata": {},
   "source": [
    "It is also possible to use both arguments at the same time when a group of variables cannot be influenced by a second group and at the same time cannot influence a third group."
   ]
  },
  {
   "cell_type": "markdown",
   "metadata": {},
   "source": [
    "### Exceptions in group constraints\n",
    "Sometimes, a set of variables behaves quite similar (e.g. our four universities), but not identically (University D has different application guidelines). These cases can be handled by the ```exceptions``` argument where we can pass a set of constraints that should not be created even though the group rules would demand it."
   ]
  },
  {
   "cell_type": "code",
   "execution_count": 12,
   "metadata": {},
   "outputs": [
    {
     "name": "stdout",
     "output_type": "stream",
     "text": [
      "-------------------\n",
      "Required edges:\n",
      "-------------------\n",
      "Forbidden edges:\n",
      "('Ethnicity', 'University C')\n",
      "('Age', 'University B')\n",
      "('Age', 'University C')\n",
      "('Ethnicity', 'University B')\n",
      "('Ethnicity', 'University A')\n",
      "('Ethnicity', 'University D')\n",
      "('Age', 'University A')\n",
      "-------------------\n"
     ]
    }
   ],
   "source": [
    "edge_creator.forbid_edges_from_groups(universities, incoming={'Age', 'Ethnicity'}, exceptions={('Age', 'University D')})\n",
    "edge_creator.show_edges()\n",
    "edge_creator.forget_edges()"
   ]
  },
  {
   "cell_type": "markdown",
   "metadata": {},
   "source": [
    "### Require edges\n",
    "Requiring edges follows exactly the same logic as forbidding them. The only difference is that required edges must be in the causal graph whereas forbidden edges must not. We demonstrate this by requiring the edges from the students' grades to their application results, again with the exception of University D."
   ]
  },
  {
   "cell_type": "code",
   "execution_count": 13,
   "metadata": {},
   "outputs": [
    {
     "name": "stdout",
     "output_type": "stream",
     "text": [
      "-------------------\n",
      "Required edges:\n",
      "('Grades', 'University C')\n",
      "('Grades', 'University A')\n",
      "('Grades', 'University B')\n",
      "-------------------\n",
      "Forbidden edges:\n",
      "-------------------\n"
     ]
    }
   ],
   "source": [
    "edge_creator.require_edges_from_groups(universities, incoming={'Grades'}, exceptions={('Grades', 'University D')})\n",
    "edge_creator.show_edges()\n",
    "edge_creator.forget_edges()"
   ]
  },
  {
   "cell_type": "markdown",
   "metadata": {},
   "source": [
    "The last remaining of our verbally formulated constraints is that a student's age determines their chances of being accepted at University D. Since this is only a single edge, we add it without any fancy methods."
   ]
  },
  {
   "cell_type": "code",
   "execution_count": 14,
   "metadata": {},
   "outputs": [
    {
     "name": "stdout",
     "output_type": "stream",
     "text": [
      "-------------------\n",
      "Required edges:\n",
      "('Age', 'University D')\n",
      "-------------------\n",
      "Forbidden edges:\n",
      "-------------------\n"
     ]
    }
   ],
   "source": [
    "edge_creator.required_edges.add(('Age', 'University D'))\n",
    "edge_creator.show_edges()\n",
    "edge_creator.forget_edges()"
   ]
  },
  {
   "cell_type": "markdown",
   "metadata": {},
   "source": [
    "### Combining all previous steps\n",
    "In order to show how shortly and concisely we can communicate prior knowledge in the form of constraints on the causal graph, we repeat all previous steps without the clutter added by didactic method calls and explanations."
   ]
  },
  {
   "cell_type": "code",
   "execution_count": 15,
   "metadata": {},
   "outputs": [
    {
     "name": "stdout",
     "output_type": "stream",
     "text": [
      "-------------------\n",
      "Required edges:\n",
      "('Grades', 'University C')\n",
      "('Age', 'University D')\n",
      "('Grades', 'University A')\n",
      "('Grades', 'University B')\n",
      "-------------------\n",
      "Forbidden edges:\n",
      "('University D', 'University A')\n",
      "('University B', 'University B')\n",
      "('University D', 'University D')\n",
      "('Age', 'University A')\n",
      "('University A', 'University D')\n",
      "('Ethnicity', 'Grades')\n",
      "('University A', 'University A')\n",
      "('University B', 'Grades')\n",
      "('University C', 'University C')\n",
      "('Age', 'Grades')\n",
      "('University B', 'Age')\n",
      "('Age', 'University B')\n",
      "('University A', 'University B')\n",
      "('Ethnicity', 'University B')\n",
      "('University D', 'University C')\n",
      "('University C', 'Ethnicities')\n",
      "('University B', 'University A')\n",
      "('University D', 'University B')\n",
      "('University C', 'University D')\n",
      "('University C', 'Age')\n",
      "('University B', 'University D')\n",
      "('University B', 'Ethnicities')\n",
      "('University A', 'University C')\n",
      "('University C', 'University A')\n",
      "('Ethnicity', 'University C')\n",
      "('Age', 'University C')\n",
      "('University A', 'Age')\n",
      "('University D', 'Age')\n",
      "('University C', 'University B')\n",
      "('University D', 'Ethnicities')\n",
      "('University D', 'Grades')\n",
      "('University C', 'Grades')\n",
      "('University A', 'Ethnicities')\n",
      "('University B', 'University C')\n",
      "('Ethnicity', 'University A')\n",
      "('University A', 'Grades')\n",
      "('Ethnicity', 'University D')\n",
      "-------------------\n"
     ]
    }
   ],
   "source": [
    "edge_creator = knowledge.EdgeCreator()\n",
    "\n",
    "universities = {'University A', 'University B', 'University C', 'University D'}\n",
    "student_attributes = {'Age', 'Ethnicities', 'Grades'}\n",
    "\n",
    "temporal_order = [student_attributes, universities]\n",
    "edge_creator.forbid_edges_from_temporal(temporal_order)\n",
    "edge_creator.forbid_edges_within_group(universities)\n",
    "edge_creator.forbid_edges_from_groups(universities, incoming={'Age', 'Ethnicity'}, exceptions={('Age', 'University D')})\n",
    "edge_creator.forbid_edges_from_groups({'Grades'}, incoming={'Age', 'Ethnicity'})\n",
    "edge_creator.require_edges_from_groups(universities, incoming={'Grades'}, exceptions={('Grades', 'University D')})\n",
    "edge_creator.required_edges.add(('Age', 'University D'))\n",
    "edge_creator.show_edges()"
   ]
  },
  {
   "cell_type": "markdown",
   "metadata": {},
   "source": [
    "Even for this small application scenario, we see that the number of required and forbidden edges can quickly grow large. If we think about how large the set of all possible combinations of edges in the causal graph is, it becomes clear that eliminating most of the possible edges before starting a structure learning algorithm is an absolute necessity for complex scenarios. It makes no sense to let the structure learning algorithm check an enormous search space for the correct causal graph, when we can already drastically reduce the search space using common sense."
   ]
  },
  {
   "cell_type": "markdown",
   "metadata": {},
   "source": [
    "## Passing the created knowledge to a structure learning algorithm\n",
    "```Cause2e``` uses the ```discovery.StructureLearner``` class to call structure learning algorithms. If we have created a ```StructureLearner``` called ```learner```, we only have to call ```learner.set_knowledge(edge_creator=edge_creator)``` and the rest is taken care of internally."
   ]
  }
 ],
 "metadata": {
  "interpreter": {
   "hash": "4697cb428b990343430888fd6e79b9ccd4a789c087a3fcc20700e77261b659ed"
  },
  "kernelspec": {
   "display_name": "Python 3.7.1 64-bit ('test': conda)",
   "name": "python3"
  },
  "language_info": {
   "codemirror_mode": {
    "name": "ipython",
    "version": 3
   },
   "file_extension": ".py",
   "mimetype": "text/x-python",
   "name": "python",
   "nbconvert_exporter": "python",
   "pygments_lexer": "ipython3",
   "version": "3.7.1"
  },
  "orig_nbformat": 2
 },
 "nbformat": 4,
 "nbformat_minor": 2
}